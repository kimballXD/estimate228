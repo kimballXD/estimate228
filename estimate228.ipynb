{
 "cells": [
  {
   "cell_type": "code",
   "execution_count": 12,
   "metadata": {
    "collapsed": true
   },
   "outputs": [],
   "source": [
    "# -*- coding: utf-8 -*-\n",
    "import os\n",
    "import math\n",
    "import pandas as pd\n",
    "import numpy as np\n",
    "os.chdir('c:/coding/228')"
   ]
  },
  {
   "cell_type": "markdown",
   "metadata": {},
   "source": [
    "# estimate 1 : using SDR to estimate 228 death count\n",
    "(SDR means \"Sexualized Death Ratio\")"
   ]
  },
  {
   "cell_type": "code",
   "execution_count": 13,
   "metadata": {
    "collapsed": false
   },
   "outputs": [
    {
     "name": "stdout",
     "output_type": "stream",
     "text": [
      "    year  month  male  female       SDR\n",
      "0   1947      1  5540    4740  1.168776\n",
      "1   1947      2  4925    4259  1.156375\n",
      "2   1947      3  5640    4678  1.205643\n",
      "3   1947      4  5864    4938  1.187525\n",
      "4   1947      5  5332    4661  1.143961\n",
      "5   1947      6  4655    4194  1.109919\n",
      "6   1947      7  4834    4519  1.069706\n",
      "7   1947      8  4838    4444  1.088659\n",
      "8   1947      9  4628    4403  1.051102\n",
      "9   1947     10  4725    4452  1.061321\n",
      "10  1947     11  4535    4064  1.115896\n",
      "11  1947     12  4879    4449  1.096651\n"
     ]
    }
   ],
   "source": [
    "data=pd.read_csv('data.txt',sep='\\t')\n",
    "data.loc[:,'SDR']=data.apply(lambda row:float(row['male'])/row['female'],axis=1)\n",
    "print data.head(12)"
   ]
  },
  {
   "cell_type": "code",
   "execution_count": 14,
   "metadata": {
    "collapsed": false
   },
   "outputs": [
    {
     "name": "stdout",
     "output_type": "stream",
     "text": [
      "cross year SDR\n",
      "       1949~1951年台灣地區死亡性別比例(SDR)\n",
      "month                                      \n",
      "3                                  1.099169\n",
      "4                                  1.100317\n",
      "5                                  1.048774\n"
     ]
    }
   ],
   "source": [
    "normalData=data.loc[(data['year']!=1947) & (data['month'].isin([3,4,5])) ,:]\n",
    "meanSDR=normalData.groupby('month').apply(lambda gData:gData['SDR'].mean())\n",
    "crossYearSDR=normalData.groupby('month').apply(lambda g:float(g['male'].sum())/g['female'].sum())\n",
    "crossYearSDR_indexed=pd.DataFrame({u'1949~1951年台灣地區死亡性別比例(SDR)':crossYearSDR})\n",
    "print 'cross year SDR'\n",
    "print crossYearSDR_indexed"
   ]
  },
  {
   "cell_type": "code",
   "execution_count": 15,
   "metadata": {
    "collapsed": false
   },
   "outputs": [
    {
     "name": "stdout",
     "output_type": "stream",
     "text": [
      "   year  month  male  female       SDR  maleEstimate  228Estimate\n",
      "2  1947      3  5640    4678  1.099169   5141.910363   498.089637\n",
      "3  1947      4  5864    4938  1.100317   5433.363365   430.636635\n",
      "4  1947      5  5332    4661  1.048774   4888.336619   443.663381\n",
      "estimate1_1, which presented in the 170225 conference : 1373.0\n",
      "\n",
      "   year  month  male  female       SDR  maleEstimate  228Estimate\n",
      "2  1947      3  5640    4678  1.100507   5148.173311   491.826689\n",
      "3  1947      4  5864    4938  1.100636   5434.939615   429.060385\n",
      "4  1947      5  5332    4661  1.050343   4895.651019   436.348981\n",
      "estimate1_2, which used meanSDR: 1358.0\n",
      "\n",
      "(We changed to use meanSDR becuase we thought it might be more reasonable.)\n"
     ]
    }
   ],
   "source": [
    "def estimate(data,SDR,estimateName='228Estimate'):\n",
    "    data.loc[:,'SDR']=SDR.tolist()\n",
    "    data.loc[:,'maleEstimate']=data.apply(lambda row:row['female']*row['SDR'],axis=1)\n",
    "    data.loc[:,estimateName]=data.apply(lambda row:row['male']-row['maleEstimate'],axis=1)\n",
    "    estimate=data[estimateName].sum()\n",
    "    return data,estimate\n",
    "\n",
    "inciData=data.loc[(data['year']==1947) & (data['month'].isin([3,4,5])) ,:]\n",
    "                  \n",
    "data1_1, estimate1_1 = estimate(inciData, crossYearSDR)\n",
    "print data1_1\n",
    "print 'estimate1_1, which presented in the 170225 conference : {}\\n'.format(math.ceil(estimate1_1))\n",
    "\n",
    "data1_2, estimate1_2 = estimate(inciData, meanSDR)\n",
    "print data1_2\n",
    "print 'estimate1_2, which used meanSDR: {}\\n'.format(math.ceil(estimate1_2))\n",
    "print '(We changed to use meanSDR becuase we thought it might be more reasonable.)'"
   ]
  },
  {
   "cell_type": "markdown",
   "metadata": {},
   "source": [
    "# estimate 2: using death date in compensation data to modify estimate 1"
   ]
  },
  {
   "cell_type": "code",
   "execution_count": 16,
   "metadata": {
    "collapsed": false
   },
   "outputs": [
    {
     "name": "stdout",
     "output_type": "stream",
     "text": [
      "      name   deathDate  monthSince1947\n",
      "0   尤萬居  19470306.0             3.0\n",
      "1   方振東  19470304.0             3.0\n",
      "2   王天炳  19470309.0             3.0\n",
      "3   王天富  19470321.0             3.0\n",
      "4     王木  19470315.0             3.0\n",
      "5   王平水  19470306.0             3.0\n",
      "6   王名朝  19470405.0             4.0\n",
      "7   王有福  19470417.0             4.0\n",
      "8   王育霖  19470314.0             3.0\n",
      "9   王來湖                         NaN\n",
      "10  王東朝  19470301.0             3.0\n",
      "11  王金火  19470308.0             3.0\n",
      "12  王金星  19470314.0             3.0\n",
      "13  王金振                         NaN\n",
      "14  王金塗  19470301.0             3.0\n",
      "15  王金樹                         NaN\n",
      "16  王金興  19470308.0             3.0\n",
      "17  王垢復  19470307.0             3.0\n",
      "18  王炳煌  19470303.0             3.0\n",
      "19  王國家  19470228.0             2.0\n"
     ]
    }
   ],
   "source": [
    "execfile('cleanCompenData.py')\n",
    "compen=pd.read_csv('cleanCompenData.txt',sep='\\t')\n",
    "compen['deathDate']=compen['deathDate'].fillna('')\n",
    "compen['deathDate']=compen['deathDate'].astype('str')\n",
    "compen['monthSince1947']=compen['deathDate'].apply(lambda x:int(x[4:6])+(int(x[:4])-1947)*12 if x!='' else None)\n",
    "print compen.loc[:,['name','deathDate','monthSince1947']].head(20)"
   ]
  },
  {
   "cell_type": "code",
   "execution_count": 17,
   "metadata": {
    "collapsed": false
   },
   "outputs": [
    {
     "name": "stdout",
     "output_type": "stream",
     "text": [
      "                受補償受難者死亡月份\n",
      "1947年二月                        19\n",
      "1947年三到五月                   556\n",
      "1947年六月以後                     8\n",
      "無死亡時間                       205\n"
     ]
    }
   ],
   "source": [
    "monDeath=compen['monthSince1947'].value_counts(dropna=False)\n",
    "\n",
    "def combineMonth(x):\n",
    "    if x==2:\n",
    "        return u'1947年二月'\n",
    "    elif x>2 and x<6:\n",
    "        return u'1947年三到五月'\n",
    "    elif np.isnan(x) or x is None:\n",
    "        return u'無死亡時間'\n",
    "    else:\n",
    "        return u'1947年六月以後'\n",
    "        \n",
    "monDeath=monDeath.groupby(combineMonth).sum()\n",
    "monDeath=monDeath.reindex_axis([u'1947年二月',u'1947年三到五月',u'1947年六月以後',u'無死亡時間'])\n",
    "monDeath_indexed=pd.DataFrame({u'受補償受難者死亡月份':monDeath})\n",
    "print monDeath_indexed"
   ]
  },
  {
   "cell_type": "code",
   "execution_count": 18,
   "metadata": {
    "collapsed": false
   },
   "outputs": [
    {
     "name": "stdout",
     "output_type": "stream",
     "text": [
      "                所佔比例  死亡人數\n",
      "1947年二月      0.032590        19\n",
      "1947年三到五月  0.953688       556\n",
      "1947年六月以後  0.013722         8\n"
     ]
    }
   ],
   "source": [
    "monDeath=monDeath.drop(u'無死亡時間')\n",
    "monDeath=pd.DataFrame({u'死亡人數':monDeath,u'所佔比例':monDeath/monDeath.sum()})\n",
    "print monDeath"
   ]
  },
  {
   "cell_type": "code",
   "execution_count": 19,
   "metadata": {
    "collapsed": false
   },
   "outputs": [
    {
     "name": "stdout",
     "output_type": "stream",
     "text": [
      "estimate2_1, which modified estimate1_1(presented in conferenece) : 1440.0\n",
      "estimate2_2, which modified estimate1_2: 1424.0\n"
     ]
    }
   ],
   "source": [
    "estimate2_1= estimate1_1/monDeath.loc[u'1947年三到五月',u'所佔比例']\n",
    "print 'estimate2_1, which modified estimate1_1(presented in conferenece) : {}'.format(math.ceil(estimate2_1))\n",
    "\n",
    "estimate2_2= estimate1_2/monDeath.loc[u'1947年三到五月',u'所佔比例']\n",
    "print 'estimate2_2, which modified estimate1_2: {}'.format(math.ceil(estimate2_2))\n"
   ]
  },
  {
   "cell_type": "markdown",
   "metadata": {
    "collapsed": true
   },
   "source": [
    "# appendix: Estimating the error margin of 228 daeth count estimation ,using death count of 1947 Jan, Feb, Jun and after."
   ]
  },
  {
   "cell_type": "code",
   "execution_count": 20,
   "metadata": {
    "collapsed": false
   },
   "outputs": [
    {
     "name": "stdout",
     "output_type": "stream",
     "text": [
      "    year  month  male  female       SDR  maleEstimate  errorEstimate\n",
      "0   1947      1  5540    4740  1.109664   5259.808206     280.191794\n",
      "1   1947      2  4925    4259  1.100968   4689.022307     235.977693\n",
      "5   1947      6  4655    4194  1.080071   4529.816523     125.183477\n",
      "6   1947      7  4834    4519  1.051487   4751.671874      82.328126\n",
      "7   1947      8  4838    4444  1.049304   4663.104957     174.895043\n",
      "8   1947      9  4628    4403  1.052443   4633.905851      -5.905851\n",
      "9   1947     10  4725    4452  1.096763   4882.788117    -157.788117\n",
      "10  1947     11  4535    4064  1.087600   4420.008018     114.991982\n",
      "11  1947     12  4879    4449  1.074337   4779.723954      99.276046\n",
      "\n",
      "average estimation error of male normal death, using cross year SDR:-0.0217899904071\n",
      "\n",
      "    year  month  male  female       SDR  maleEstimate  errorEstimate\n",
      "0   1947      1  5540    4740  1.109323   5258.191925     281.808075\n",
      "1   1947      2  4925    4259  1.101768   4692.427959     232.572041\n",
      "5   1947      6  4655    4194  1.080520   4531.701612     123.298388\n",
      "6   1947      7  4834    4519  1.052184   4754.821602      79.178398\n",
      "7   1947      8  4838    4444  1.049410   4663.575894     174.424106\n",
      "8   1947      9  4628    4403  1.053723   4639.542683     -11.542683\n",
      "9   1947     10  4725    4452  1.095806   4878.526608    -153.526608\n",
      "10  1947     11  4535    4064  1.087041   4417.733837     117.266163\n",
      "11  1947     12  4879    4449  1.072492   4771.515948     107.484052\n",
      "\n",
      "average estimation error of male normal death, using meanSDR:-0.0218315831518\n",
      "\n"
     ]
    }
   ],
   "source": [
    "testData=data.loc[(data['year']==1947) & (~data['month'].isin([3,4,5])) ,:]\n",
    "testNormalData=data.loc[(data['year']!=1947) & (~data['month'].isin([3,4,5])) ,:]\n",
    "\n",
    "testMeanSDR=testNormalData.groupby('month').apply(lambda gData:gData['SDR'].mean())\n",
    "testCrossYearSDR=testNormalData.groupby('month').apply(lambda g:float(g['male'].sum())/g['female'].sum())\n",
    "\n",
    "testData1_1, errorEstimate1_1=estimate(testData, testMeanSDR, estimateName='errorEstimate')\n",
    "print testData1_1\n",
    "print '\\naverage estimation error of male normal death, using cross year SDR:{}\\n'.format(\n",
    "        -1*errorEstimate1_1/testData['male'].sum())\n",
    "\n",
    "testData1_2, errorEstimate1_2=estimate(testData,testCrossYearSDR,estimateName='errorEstimate')\n",
    "print testData1_2\n",
    "print '\\naverage estimation error of male normal death, using meanSDR:{}\\n'.format(\n",
    "        -1*errorEstimate1_2/testData['male'].sum())              \n",
    "\n"
   ]
  }
 ],
 "metadata": {
  "anaconda-cloud": {},
  "kernelspec": {
   "display_name": "Python [default]",
   "language": "python",
   "name": "python2"
  },
  "language_info": {
   "codemirror_mode": {
    "name": "ipython",
    "version": 2
   },
   "file_extension": ".py",
   "mimetype": "text/x-python",
   "name": "python",
   "nbconvert_exporter": "python",
   "pygments_lexer": "ipython2",
   "version": "2.7.12"
  }
 },
 "nbformat": 4,
 "nbformat_minor": 1
}

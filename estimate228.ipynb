{
 "cells": [
  {
   "cell_type": "code",
   "execution_count": 31,
   "metadata": {
    "collapsed": true
   },
   "outputs": [],
   "source": [
    "# -*- coding: utf-8 -*-\n",
    "\"\"\"\n",
    "Created on Thu Feb 23 07:37:51 2017\n",
    "\n",
    "@author: Wu\n",
    "\"\"\"\n",
    "\n",
    "import os\n",
    "import math\n",
    "import pandas as pd\n",
    "import numpy as np\n",
    "os.chdir('c:/coding/228')"
   ]
  },
  {
   "cell_type": "markdown",
   "metadata": {},
   "source": [
    "# estimate 1 : using SDR to estimate 228 death count\n",
    "(SDR means \"Sexualized Death Ratio\")"
   ]
  },
  {
   "cell_type": "code",
   "execution_count": 32,
   "metadata": {
    "collapsed": false
   },
   "outputs": [
    {
     "name": "stdout",
     "output_type": "stream",
     "text": [
      "    year  month  male  female\n",
      "0   1947      1  5540    4740\n",
      "1   1947      2  4925    4259\n",
      "2   1947      3  5640    4678\n",
      "3   1947      4  5864    4938\n",
      "4   1947      5  5332    4661\n",
      "5   1947      6  4655    4194\n",
      "6   1947      7  4834    4519\n",
      "7   1947      8  4838    4444\n",
      "8   1947      9  4628    4403\n",
      "9   1947     10  4725    4452\n",
      "10  1947     11  4535    4064\n",
      "11  1947     12  4879    4449\n"
     ]
    }
   ],
   "source": [
    "data=pd.read_csv('data.txt',sep='\\t')\n",
    "print data.head(12)"
   ]
  },
  {
   "cell_type": "code",
   "execution_count": 33,
   "metadata": {
    "collapsed": false
   },
   "outputs": [
    {
     "name": "stdout",
     "output_type": "stream",
     "text": [
      "       1949~1951年台灣地區死亡性別比例(SDR)\n",
      "month                                      \n",
      "3                                  1.100507\n",
      "4                                  1.100636\n",
      "5                                  1.050343\n"
     ]
    }
   ],
   "source": [
    "normalData=data.loc[(data['year']!=1947) & (data['month'].isin([3,4,5])) ,:]\n",
    "normalData.loc[:,'SDR']=normalData.apply(lambda row:float(row['male'])/row['female'],axis=1)\n",
    "normalSDR=normalData.groupby('month').apply(lambda gData:gData['SDR'].mean())\n",
    "normalSDR_indexed=pd.DataFrame({u'1949~1951年台灣地區死亡性別比例(SDR)':normalSDR})\n",
    "print normalSDR_indexed"
   ]
  },
  {
   "cell_type": "code",
   "execution_count": 34,
   "metadata": {
    "collapsed": false
   },
   "outputs": [
    {
     "name": "stdout",
     "output_type": "stream",
     "text": [
      "   year  month  male  female       SDR  maleEstimate  228Estimate\n",
      "2  1947      3  5640    4678  1.100507   5148.173311   491.826689\n",
      "3  1947      4  5864    4938  1.100636   5434.939615   429.060385\n",
      "4  1947      5  5332    4661  1.050343   4895.651019   436.348981\n",
      "estimate1: 1358.0\n"
     ]
    }
   ],
   "source": [
    "inciData=data.loc[(data['year']==1947) & (data['month'].isin([3,4,5])) ,:]\n",
    "inciData.loc[:,'SDR']=normalSDR.tolist()\n",
    "inciData.loc[:,'maleEstimate']=inciData.apply(lambda row:row['female']*row['SDR'],axis=1)\n",
    "inciData.loc[:,'228Estimate']=inciData.apply(lambda row:row['male']-row['maleEstimate'],axis=1)\n",
    "estimate1=inciData['228Estimate'].sum()\n",
    "print inciData\n",
    "print 'estimate1: {}'.format(math.ceil(estimate1))\n"
   ]
  },
  {
   "cell_type": "markdown",
   "metadata": {},
   "source": [
    "# estimate 2: using death date in compensation data to modify estimate 1"
   ]
  },
  {
   "cell_type": "code",
   "execution_count": 38,
   "metadata": {
    "collapsed": false
   },
   "outputs": [
    {
     "name": "stdout",
     "output_type": "stream",
     "text": [
      "      name deathDate  monthSince1947\n",
      "0   尤萬居  19470306             3.0\n",
      "1   方振東  19470304             3.0\n",
      "2   王天炳  19470309             3.0\n",
      "3   王天富  19470321             3.0\n",
      "4     王木  19470315             3.0\n",
      "5   王平水  19470306             3.0\n",
      "6   王名朝  19470405             4.0\n",
      "7   王有福  19470417             4.0\n",
      "8   王育霖  19470314             3.0\n",
      "9   王來湖                       NaN\n",
      "10  王東朝  19470301             3.0\n",
      "11  王金火  19470308             3.0\n",
      "12  王金星  19470314             3.0\n",
      "13  王金振                       NaN\n",
      "14  王金塗  19470301             3.0\n",
      "15  王金樹                       NaN\n",
      "16  王金興  19470308             3.0\n",
      "17  王垢復  19470307             3.0\n",
      "18  王炳煌  19470303             3.0\n",
      "19  王國家  19470228             2.0\n"
     ]
    }
   ],
   "source": [
    "execfile('cleanCompenData.py')\n",
    "compen=pd.read_csv('cleanCompenData.txt',sep='\\t')\n",
    "compen['deathDate']=data['deathDate'].fillna('')\n",
    "compen['deathDate']=compen['deathDate'].astype('str')\n",
    "compen['monthSince1947']=compen['deathDate'].apply(lambda x:int(x[4:6])+(int(x[:4])-1947)*12 if x!='' else None)\n",
    "print compen.loc[:,['name','deathDate','monthSince1947']].head(20)"
   ]
  },
  {
   "cell_type": "code",
   "execution_count": 39,
   "metadata": {
    "collapsed": false
   },
   "outputs": [
    {
     "name": "stdout",
     "output_type": "stream",
     "text": [
      "                受補償受難者死亡月份\n",
      "1947年二月                        19\n",
      "1947年三到五月                   556\n",
      "1947年六月以後                     8\n",
      "無死亡時間                       205\n"
     ]
    }
   ],
   "source": [
    "monDeath=compen['monthSince1947'].value_counts(dropna=False)\n",
    "\n",
    "def combineMonth(x):\n",
    "    if x==2:\n",
    "        return u'1947年二月'\n",
    "    elif x>2 and x<6:\n",
    "        return u'1947年三到五月'\n",
    "    elif np.isnan(x) or x is None:\n",
    "        return u'無死亡時間'\n",
    "    else:\n",
    "        return u'1947年六月以後'\n",
    "        \n",
    "monDeath=monDeath.groupby(combineMonth).sum()\n",
    "monDeath=monDeath.reindex_axis([u'1947年二月',u'1947年三到五月',u'1947年六月以後',u'無死亡時間'])\n",
    "monDeath_indexed=pd.DataFrame({u'受補償受難者死亡月份':monDeath})\n",
    "print monDeath_indexed"
   ]
  },
  {
   "cell_type": "code",
   "execution_count": 40,
   "metadata": {
    "collapsed": false
   },
   "outputs": [
    {
     "name": "stdout",
     "output_type": "stream",
     "text": [
      "                所佔比例  死亡人數\n",
      "1947年二月      0.032590        19\n",
      "1947年三到五月  0.953688       556\n",
      "1947年六月以後  0.013722         8\n"
     ]
    }
   ],
   "source": [
    "monDeath=monDeath.drop(u'無死亡時間')\n",
    "monDeath=pd.DataFrame({u'死亡人數':monDeath,u'所佔比例':monDeath/monDeath.sum()})\n",
    "print monDeath"
   ]
  },
  {
   "cell_type": "code",
   "execution_count": 41,
   "metadata": {
    "collapsed": false
   },
   "outputs": [
    {
     "name": "stdout",
     "output_type": "stream",
     "text": [
      "estimate2: 1424.0\n"
     ]
    }
   ],
   "source": [
    "estimate2=estimate1/monDeath.loc[u'1947年三到五月',u'所佔比例']\n",
    "print 'estimate2: {}'.format(math.ceil(estimate2))\n"
   ]
  }
 ],
 "metadata": {
  "anaconda-cloud": {},
  "kernelspec": {
   "display_name": "Python [default]",
   "language": "python",
   "name": "python2"
  },
  "language_info": {
   "codemirror_mode": {
    "name": "ipython",
    "version": 2
   },
   "file_extension": ".py",
   "mimetype": "text/x-python",
   "name": "python",
   "nbconvert_exporter": "python",
   "pygments_lexer": "ipython2",
   "version": "2.7.12"
  }
 },
 "nbformat": 4,
 "nbformat_minor": 1
}
